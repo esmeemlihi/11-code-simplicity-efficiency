{
 "cells": [
  {
   "cell_type": "code",
   "execution_count": 1,
   "metadata": {},
   "outputs": [
    {
     "name": "stdout",
     "output_type": "stream",
     "text": [
      "Welcome to this calculator!\n",
      "It can add and subtract whole numbers from zero to five\n",
      "Please choose your first number (zero to five): two\n",
      "What do you want to do? plus or minus: minus\n",
      "Please choose your second number (zero to five): three\n",
      "two minus three equals:  minus one \n",
      "Thanks for using this calculator, goodbye :)\n"
     ]
    }
   ],
   "source": [
    "#! /usr/bin/env python: \n",
    "'''\n",
    "L.S. Code works and looks good, but there are no input statements. Please check these things before handing in the code. \n",
    "'''\n",
    "\n",
    "print('Welcome to this calculator!')\n",
    "print('It can add and subtract whole numbers from zero to five')\n",
    "a = input('Please choose your first number (zero to five): ') # \"three\"\n",
    "b = input('What do you want to do? plus or minus: ') # \"minus\" \n",
    "c = input('Please choose your second number (zero to five): ') # \"four\" \n",
    "\n",
    "\n",
    "correct_list_numbers = [\"zero\", \"one\", \"two\", \"three\", \"four\", \"five\"]\n",
    "correct_list_calc = [\"plus\", \"minus\"]\n",
    "correct_list_result = [\"zero\", \"one\", \"two\", \"three\", \"four\", \"five\", \"six\", \"seven\", \"eight\", \"then\"]\n",
    "error_message = \"I am not able to answer this question. Check your input.\"\n",
    "\n",
    "\n",
    "\n",
    "if a in correct_list_numbers: \n",
    "        \n",
    "    if b in correct_list_calc:\n",
    "\n",
    "        if c in correct_list_numbers:\n",
    "            if correct_list_calc.index(b)== 0:\n",
    "                result = correct_list_numbers.index(a) + correct_list_numbers.index(c)\n",
    "                result_value = \"plus\"\n",
    "            else: \n",
    "                result = correct_list_numbers.index(a) - correct_list_numbers.index(c)\n",
    "                \n",
    "                if result < 0:\n",
    "                    result_value = \"minus\"\n",
    "                    result = result *-1\n",
    "                else: \n",
    "                     result_value = \"plus\"\n",
    "        else: \n",
    "            print(error_message)\n",
    "    else:\n",
    "        print(error_message)\n",
    "else:\n",
    "    print(error_message)\n",
    "    \n",
    "\n",
    "index_a = correct_list_numbers.index(a)\n",
    "index_b = correct_list_calc.index(b)\n",
    "index_c = correct_list_numbers.index(c)\n",
    "index_result = correct_list_result[result]\n",
    "\n",
    "print (correct_list_numbers[index_a], correct_list_calc[index_b], \n",
    "       correct_list_numbers[index_c], \"equals: \", result_value, index_result, \n",
    "      \"\\nThanks for using this calculator, goodbye :)\")\n",
    "\n"
   ]
  },
  {
   "cell_type": "code",
   "execution_count": null,
   "metadata": {},
   "outputs": [],
   "source": []
  }
 ],
 "metadata": {
  "kernelspec": {
   "display_name": "Python 3",
   "language": "python",
   "name": "python3"
  },
  "language_info": {
   "codemirror_mode": {
    "name": "ipython",
    "version": 3
   },
   "file_extension": ".py",
   "mimetype": "text/x-python",
   "name": "python",
   "nbconvert_exporter": "python",
   "pygments_lexer": "ipython3",
   "version": "3.7.4"
  }
 },
 "nbformat": 4,
 "nbformat_minor": 2
}
