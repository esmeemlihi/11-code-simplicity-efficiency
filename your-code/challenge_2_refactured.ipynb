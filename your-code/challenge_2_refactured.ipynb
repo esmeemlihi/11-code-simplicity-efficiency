{
 "cells": [
  {
   "cell_type": "code",
   "execution_count": 1,
   "metadata": {},
   "outputs": [
    {
     "ename": "TypeError",
     "evalue": "StringRange() missing 1 required positional argument: 'a'",
     "output_type": "error",
     "traceback": [
      "\u001b[0;31m---------------------------------------------------------------------------\u001b[0m",
      "\u001b[0;31mTypeError\u001b[0m                                 Traceback (most recent call last)",
      "\u001b[0;32m<ipython-input-1-cdefa1027174>\u001b[0m in \u001b[0;36m<module>\u001b[0;34m()\u001b[0m\n\u001b[1;32m     12\u001b[0m         \u001b[0mrandomStringDigits\u001b[0m\u001b[0;34m(\u001b[0m\u001b[0ma\u001b[0m\u001b[0;34m)\u001b[0m\u001b[0;34m\u001b[0m\u001b[0m\n\u001b[1;32m     13\u001b[0m \u001b[0;34m\u001b[0m\u001b[0m\n\u001b[0;32m---> 14\u001b[0;31m \u001b[0mprint\u001b[0m\u001b[0;34m(\u001b[0m\u001b[0mStringRange\u001b[0m\u001b[0;34m(\u001b[0m\u001b[0;36m2\u001b[0m\u001b[0;34m)\u001b[0m\u001b[0;34m)\u001b[0m\u001b[0;34m\u001b[0m\u001b[0m\n\u001b[0m",
      "\u001b[0;31mTypeError\u001b[0m: StringRange() missing 1 required positional argument: 'a'"
     ]
    }
   ],
   "source": [
    "'''\n",
    "L.S. Does not work.\n",
    "'''\n",
    "#improved solution 1, but dus not qiet works well..\n",
    "\n",
    "def randomStringDigits(a):\n",
    "    import random\n",
    "    import string\n",
    "    lettersAndDigits = string.ascii_letters + string.digits #Generate a random string of letters and digits\n",
    "    return ''.join(random.choice(lettersAndDigits) for i in range(a)) #regular expression \n",
    "\n",
    "def StringRange(n,a): \n",
    "    for i in range (n): \n",
    "        randomStringDigits(a)\n",
    "\n",
    "print(StringRange(2))"
   ]
  },
  {
   "cell_type": "code",
   "execution_count": 2,
   "metadata": {},
   "outputs": [
    {
     "ename": "SyntaxError",
     "evalue": "invalid syntax (<ipython-input-2-66b992836904>, line 13)",
     "output_type": "error",
     "traceback": [
      "\u001b[0;36m  File \u001b[0;32m\"<ipython-input-2-66b992836904>\"\u001b[0;36m, line \u001b[0;32m13\u001b[0m\n\u001b[0;31m    if a\u001b[0m\n\u001b[0m        ^\u001b[0m\n\u001b[0;31mSyntaxError\u001b[0m\u001b[0;31m:\u001b[0m invalid syntax\n"
     ]
    }
   ],
   "source": [
    "# old situation\n",
    "\n",
    "def StringGenerator(n, a=8, b=12):\n",
    "    import random\n",
    "    choice =[\n",
    "            'a','b','c','d','e','f','g','h','i',\n",
    "            'j','k','l','m','n','o','p','q','r',\n",
    "            's','t','u','v','w','x','y','z','0',\n",
    "            '1','2','3','4','5','6','7','8','9'\n",
    "            ]\n",
    "    random_strings = []\n",
    "    string_length = random.choice(list(range(a,b)))\n",
    "    if a\n",
    "    \n",
    "    for string in range(n):\n",
    "        sub_string=[]\n",
    "        for i in range (a,b): \n",
    "            sub_string.append(random.choice(choice))\n",
    "        random_strings.append(sub_string)\n",
    "    print (andom_strings)\n",
    "\n",
    "a = input('Enter minimum string length: ')\n",
    "b = input('Enter maximum string length: ')\n",
    "n = input('How many random strings to generate? ')\n",
    "    \n",
    "print(BatchStringGenerator(int(n), int(a), int(b)))\n",
    "    \n"
   ]
  },
  {
   "cell_type": "code",
   "execution_count": 3,
   "metadata": {},
   "outputs": [
    {
     "name": "stdout",
     "output_type": "stream",
     "text": [
      "Enter minimum string length: 3\n",
      "Enter maximum string length: 5\n",
      "How many random strings to generate? 1\n"
     ]
    }
   ],
   "source": [
    "#improved solution 2, but dus not qiet works well..\n",
    "\n",
    "'''\n",
    "L.S. Does not work. Improve.\n",
    "'''\n",
    "\n",
    "def randomStringDigits(stringLength=6):\n",
    "    import random\n",
    "    import string\n",
    "    lettersAndDigits = string.ascii_letters + string.digits #Generate a random string of letters and digits\n",
    "    return ''.join(random.choice(lettersAndDigits) for i in range(stringLength)) #regular expression \n",
    "\n",
    "\n",
    "def string_length(a=8, b=12):\n",
    "    import random\n",
    "    if a > b:\n",
    "        s_length = random.choice(list(range(a,b)))\n",
    "    elif a == b: \n",
    "        s_length = a\n",
    "    else:\n",
    "        s_length = random.choice(list(range(b,a)))\n",
    "    return s_length\n",
    "\n",
    "\n",
    "\n",
    "    \n",
    "a = input('Enter minimum string length: ')\n",
    "b = input('Enter maximum string length: ')\n",
    "n = input('How many random strings to generate? ')\n",
    "    \n",
    "#print(StringGenerator(int(n), int(a), int(b)))\n",
    "\n",
    "#print(randomStringDigits(6))\n",
    "\n"
   ]
  },
  {
   "cell_type": "code",
   "execution_count": null,
   "metadata": {},
   "outputs": [],
   "source": []
  }
 ],
 "metadata": {
  "kernelspec": {
   "display_name": "Python 3",
   "language": "python",
   "name": "python3"
  },
  "language_info": {
   "codemirror_mode": {
    "name": "ipython",
    "version": 3
   },
   "file_extension": ".py",
   "mimetype": "text/x-python",
   "name": "python",
   "nbconvert_exporter": "python",
   "pygments_lexer": "ipython3",
   "version": "3.6.4"
  }
 },
 "nbformat": 4,
 "nbformat_minor": 2
}
