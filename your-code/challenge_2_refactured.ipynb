{
 "cells": [
  {
   "cell_type": "code",
   "execution_count": 16,
   "metadata": {},
   "outputs": [
    {
     "name": "stdout",
     "output_type": "stream",
     "text": [
      "None\n"
     ]
    }
   ],
   "source": [
    "\n",
    "#improved solution 1, but dus not qiet works well..\n",
    "\n",
    "def randomStringDigits(a):\n",
    "    import random\n",
    "    import string\n",
    "    lettersAndDigits = string.ascii_letters + string.digits #Generate a random string of letters and digits\n",
    "    return ''.join(random.choice(lettersAndDigits) for i in range(a)) #regular expression \n",
    "\n",
    "def StringRange(n,a): \n",
    "    for i in range (n): \n",
    "        randomStringDigits(a)\n",
    "\n",
    "print(StringRange(2))"
   ]
  },
  {
   "cell_type": "code",
   "execution_count": null,
   "metadata": {},
   "outputs": [],
   "source": [
    "# old situation\n",
    "\n",
    "def StringGenerator(n, a=8, b=12):\n",
    "    import random\n",
    "    choice =[\n",
    "            'a','b','c','d','e','f','g','h','i',\n",
    "            'j','k','l','m','n','o','p','q','r',\n",
    "            's','t','u','v','w','x','y','z','0',\n",
    "            '1','2','3','4','5','6','7','8','9'\n",
    "            ]\n",
    "    random_strings = []\n",
    "    string_length = random.choice(list(range(a,b)))\n",
    "    if a\n",
    "    \n",
    "    for string in range(n):\n",
    "        sub_string=[]\n",
    "        for i in range (a,b): \n",
    "            sub_string.append(random.choice(choice))\n",
    "        random_strings.append(sub_string)\n",
    "    print (andom_strings)\n",
    "\n",
    "a = input('Enter minimum string length: ')\n",
    "b = input('Enter maximum string length: ')\n",
    "n = input('How many random strings to generate? ')\n",
    "    \n",
    "print(BatchStringGenerator(int(n), int(a), int(b)))\n",
    "    \n"
   ]
  },
  {
   "cell_type": "code",
   "execution_count": 18,
   "metadata": {},
   "outputs": [
    {
     "name": "stdout",
     "output_type": "stream",
     "text": [
      "Enter minimum string length: 4\n",
      "Enter maximum string length: 5\n",
      "How many random strings to generate? 3\n"
     ]
    }
   ],
   "source": [
    "#improved solution 2, but dus not qiet works well..\n",
    "\n",
    "def randomStringDigits(stringLength=6):\n",
    "    import random\n",
    "    import string\n",
    "    lettersAndDigits = string.ascii_letters + string.digits #Generate a random string of letters and digits\n",
    "    return ''.join(random.choice(lettersAndDigits) for i in range(stringLength)) #regular expression \n",
    "\n",
    "\n",
    "def string_length(a=8, b=12):\n",
    "    import random\n",
    "    if a > b:\n",
    "        s_length = random.choice(list(range(a,b)))\n",
    "    elif a == b: \n",
    "        s_length = a\n",
    "    else:\n",
    "        s_length = random.choice(list(range(b,a)))\n",
    "    return s_length\n",
    "\n",
    "\n",
    "\n",
    "    \n",
    "a = input('Enter minimum string length: ')\n",
    "b = input('Enter maximum string length: ')\n",
    "n = input('How many random strings to generate? ')\n",
    "    \n",
    "#print(StringGenerator(int(n), int(a), int(b)))\n",
    "\n",
    "#print(randomStringDigits(6))\n",
    "\n"
   ]
  }
 ],
 "metadata": {
  "kernelspec": {
   "display_name": "Python 3",
   "language": "python",
   "name": "python3"
  }
 },
 "nbformat": 4,
 "nbformat_minor": 2
}
